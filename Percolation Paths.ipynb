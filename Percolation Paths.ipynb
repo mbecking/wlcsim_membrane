{
 "cells": [
  {
   "cell_type": "code",
   "execution_count": 14,
   "metadata": {},
   "outputs": [],
   "source": [
    "import numpy as np"
   ]
  },
  {
   "cell_type": "markdown",
   "metadata": {},
   "source": [
    "## Import Files From Simulation:"
   ]
  },
  {
   "cell_type": "code",
   "execution_count": null,
   "metadata": {},
   "outputs": [],
   "source": [
    "#network = PolymerNetwork.load(\"filename\")\n",
    "#network.create_beads()"
   ]
  },
  {
   "cell_type": "markdown",
   "metadata": {},
   "source": [
    "## What we need to calculate:\n",
    "\n",
    "Starting with the final equilibrium state we have x,y,z postion of a bead and it's identity (and also methylation state). We want to calculate percolation paths which will be represented by root mean square. \n",
    "\n",
    "#### What Percolation Model do we want to use:\n",
    "\n",
    "1. Fire spead model:\n",
    "\n",
    "Proceedure:\n",
    "1. Pick a bead type\n",
    "2. pick a random bead of that bead type\n",
    "3. Check surround bead types to see if they are the same\n",
    "    a. Pick a radius to search in\n"
   ]
  },
  {
   "cell_type": "code",
   "execution_count": 18,
   "metadata": {},
   "outputs": [],
   "source": [
    "class Bead:\n",
    "    '''\n",
    "    '''\n",
    "    def __init__(self, x, y, z, bead_type):\n",
    "        self.x = x\n",
    "        self.y = y\n",
    "        self.z = z\n",
    "        self.bead_type = bead_type\n",
    "    \n",
    "    "
   ]
  },
  {
   "cell_type": "code",
   "execution_count": 19,
   "metadata": {},
   "outputs": [],
   "source": [
    "class Path:\n",
    "    '''\n",
    "    '''\n",
    "    def __init__ (self, length, origin_bead):\n",
    "        self.length = length\n",
    "        self.origin_bead = origin_bead\n",
    "        \n",
    "    def dist_from_origin(self, bead):\n",
    "        origin = [self.origin_bead.x, self.origin_bead.y, self.origin_bead.z]\n",
    "        bead_point = [bead.x, bead.y, bead.z]\n",
    "        dist_sq = (origin[0] - bead_point[0])**2 + (origin[1] - bead_point[1])**2 + (origin[2] - bead_point[2])**2\n",
    "        return np.sqrt(dist_sq)\n",
    "        "
   ]
  },
  {
   "cell_type": "code",
   "execution_count": 20,
   "metadata": {},
   "outputs": [],
   "source": [
    "class PolymerNetwork:\n",
    "    \"\"\"\n",
    "    This represents the postions of bead and their type (time invariant)\n",
    "    \n",
    "    Parameters\n",
    "    ----------\n",
    "    X : float [array] X \n",
    "    \"\"\"\n",
    "    \n",
    "    def __init__(self,X,Y,Z, Beads):\n",
    "        self.X = X\n",
    "        self.Y = Y\n",
    "        self.Z = Z\n",
    "        self.Beads = Beads\n",
    "        self.bead_list = [] # list of created bead objects\n",
    "    \n",
    "    def load(self, filename):\n",
    "        pass\n",
    "    \n",
    "    def create_beads(self):\n",
    "        for i in range(len(X)):\n",
    "            bead = Bead(self.X[i], self.Y[i], self.Z[i], self.Beads[i])\n",
    "            self.bead_list.append(bead)\n",
    "    \n",
    "    def find_max_displacement(self, start_Bead, nn_radius, Path, array_of_paths=[]):\n",
    "        pass\n",
    "    \"\"\"\n",
    "    Psuedocode:\n",
    "    \n",
    "    find beads of same type w/in radius\n",
    "        if (no beads w/in radius):\n",
    "            return path.dist_from_origin    #(distance from origin bead)\n",
    "        elif (enough beads in radius):\n",
    "            for (each new_bead in radius):\n",
    "                array_of_paths += path.dist_from_origin    #(displacement of intermediate bead from origin bead)\n",
    "                array_of_paths += PolymerNetwork.find_msd(new_bead, nn_radius, path, array_of_paths)    \n",
    "            return max(array_of_paths)\n",
    "    \"\"\""
   ]
  },
  {
   "cell_type": "markdown",
   "metadata": {},
   "source": [
    "Two places to involve theory:\n",
    "- determining radius/nearest neighbors (nn_radius). proportional to density?\n",
    "- number of nearest neighbors needed to expand\n",
    "\n",
    "?- does root mean square make sense for the forest fire approach. Not involving individual molecules movement"
   ]
  },
  {
   "cell_type": "code",
   "execution_count": null,
   "metadata": {},
   "outputs": [],
   "source": []
  }
 ],
 "metadata": {
  "kernelspec": {
   "display_name": "Python 3",
   "language": "python",
   "name": "python3"
  },
  "language_info": {
   "codemirror_mode": {
    "name": "ipython",
    "version": 3
   },
   "file_extension": ".py",
   "mimetype": "text/x-python",
   "name": "python",
   "nbconvert_exporter": "python",
   "pygments_lexer": "ipython3",
   "version": "3.7.6"
  }
 },
 "nbformat": 4,
 "nbformat_minor": 4
}
